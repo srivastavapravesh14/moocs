{
 "cells": [
  {
   "cell_type": "markdown",
   "metadata": {
    "colab_type": "text",
    "id": "3DR-eO17geWu"
   },
   "source": [
    "# Convolutional Neural Network"
   ]
  },
  {
   "cell_type": "markdown",
   "metadata": {
    "colab_type": "text",
    "id": "EMefrVPCg-60"
   },
   "source": [
    "### Importing the libraries"
   ]
  },
  {
   "cell_type": "code",
   "execution_count": 1,
   "metadata": {
    "colab": {
     "base_uri": "https://localhost:8080/",
     "height": 34
    },
    "colab_type": "code",
    "id": "zDaYIENxLPtj",
    "outputId": "ae0a94c4-bb07-467b-a64c-ca9509a1d3c9"
   },
   "outputs": [],
   "source": [
    "import tensorflow as tf\n",
    "import numpy as np\n",
    "import matplotlib.pyplot as plt\n",
    "from keras.preprocessing.image import ImageDataGenerator"
   ]
  },
  {
   "cell_type": "markdown",
   "metadata": {
    "colab_type": "text",
    "id": "oxQxCBWyoGPE"
   },
   "source": [
    "## Part 1 - Data Preprocessing"
   ]
  },
  {
   "cell_type": "markdown",
   "metadata": {
    "colab_type": "text",
    "id": "MvE-heJNo3GG"
   },
   "source": [
    "### Preprocessing the Training set"
   ]
  },
  {
   "cell_type": "code",
   "execution_count": 2,
   "metadata": {
    "colab": {},
    "colab_type": "code",
    "id": "jAlhn2t9M163"
   },
   "outputs": [
    {
     "name": "stdout",
     "output_type": "stream",
     "text": [
      "Found 8000 images belonging to 2 classes.\n"
     ]
    }
   ],
   "source": [
    "train_datagen = ImageDataGenerator(\n",
    "        rescale=1./255,\n",
    "        shear_range=0.2,\n",
    "        zoom_range=0.2,\n",
    "        horizontal_flip=True)\n",
    "\n",
    "\n",
    "train_data = train_datagen.flow_from_directory(\n",
    "        'dataset/training_set',\n",
    "        target_size=(64, 64),\n",
    "        batch_size=32,\n",
    "        class_mode='binary')"
   ]
  },
  {
   "cell_type": "markdown",
   "metadata": {
    "colab_type": "text",
    "id": "mrCMmGw9pHys"
   },
   "source": [
    "### Preprocessing the Test set"
   ]
  },
  {
   "cell_type": "code",
   "execution_count": 3,
   "metadata": {
    "colab": {},
    "colab_type": "code",
    "id": "_6XG6ea5TDu_"
   },
   "outputs": [
    {
     "name": "stdout",
     "output_type": "stream",
     "text": [
      "Found 2000 images belonging to 2 classes.\n"
     ]
    }
   ],
   "source": [
    "test_datagen = ImageDataGenerator(rescale=1./255)\n",
    "\n",
    "test_data = test_datagen.flow_from_directory(\n",
    "        'dataset/test_set',\n",
    "        target_size=(64, 64),\n",
    "        batch_size=32,\n",
    "        class_mode='binary')"
   ]
  },
  {
   "cell_type": "markdown",
   "metadata": {
    "colab_type": "text",
    "id": "af8O4l90gk7B"
   },
   "source": [
    "## Part 2 - Building the CNN"
   ]
  },
  {
   "cell_type": "markdown",
   "metadata": {
    "colab_type": "text",
    "id": "ces1gXY2lmoX"
   },
   "source": [
    "### Initialising the CNN"
   ]
  },
  {
   "cell_type": "code",
   "execution_count": 17,
   "metadata": {
    "colab": {},
    "colab_type": "code",
    "id": "JM8P-U0LT5zw"
   },
   "outputs": [],
   "source": [
    "cnn = tf.keras.models.Sequential()"
   ]
  },
  {
   "cell_type": "markdown",
   "metadata": {
    "colab_type": "text",
    "id": "u5YJj_XMl5LF"
   },
   "source": [
    "### Step 1 - Convolution"
   ]
  },
  {
   "cell_type": "code",
   "execution_count": 18,
   "metadata": {
    "colab": {},
    "colab_type": "code",
    "id": "6XlM9Tw3UGfo"
   },
   "outputs": [],
   "source": [
    "cnn.add( tf.keras.layers.Conv2D(filters = 32, kernel_size=3, activation= \"relu\", input_shape = [64,64,3]) )"
   ]
  },
  {
   "cell_type": "markdown",
   "metadata": {
    "colab_type": "text",
    "id": "tf87FpvxmNOJ"
   },
   "source": [
    "### Step 2 - Pooling"
   ]
  },
  {
   "cell_type": "code",
   "execution_count": 19,
   "metadata": {
    "colab": {},
    "colab_type": "code",
    "id": "pnb26r-XVWvJ"
   },
   "outputs": [],
   "source": [
    "cnn.add( tf.keras.layers.MaxPool2D(pool_size=2, strides=2) )"
   ]
  },
  {
   "cell_type": "markdown",
   "metadata": {
    "colab_type": "text",
    "id": "xaTOgD8rm4mU"
   },
   "source": [
    "### Adding a second convolutional layer"
   ]
  },
  {
   "cell_type": "code",
   "execution_count": 21,
   "metadata": {
    "colab": {},
    "colab_type": "code",
    "id": "BuMjK1U9V7oW"
   },
   "outputs": [],
   "source": [
    "cnn.add( tf.keras.layers.Conv2D(filters = 32, kernel_size=3, activation= \"relu\") )\n",
    "\n",
    "cnn.add( tf.keras.layers.MaxPool2D(pool_size=2, strides=2) )"
   ]
  },
  {
   "cell_type": "markdown",
   "metadata": {
    "colab_type": "text",
    "id": "tmiEuvTunKfk"
   },
   "source": [
    "### Step 3 - Flattening"
   ]
  },
  {
   "cell_type": "code",
   "execution_count": 22,
   "metadata": {
    "colab": {},
    "colab_type": "code",
    "id": "Wta7s7DcWAz4"
   },
   "outputs": [],
   "source": [
    "cnn.add(tf.keras.layers.Flatten())"
   ]
  },
  {
   "cell_type": "markdown",
   "metadata": {
    "colab_type": "text",
    "id": "dAoSECOm203v"
   },
   "source": [
    "### Step 4 - Full Connection"
   ]
  },
  {
   "cell_type": "code",
   "execution_count": 23,
   "metadata": {
    "colab": {},
    "colab_type": "code",
    "id": "10AwswxgWZEc"
   },
   "outputs": [],
   "source": [
    "cnn.add(tf.keras.layers.Dense(units = 128, activation = 'relu'))\n"
   ]
  },
  {
   "cell_type": "markdown",
   "metadata": {
    "colab_type": "text",
    "id": "yTldFvbX28Na"
   },
   "source": [
    "### Step 5 - Output Layer"
   ]
  },
  {
   "cell_type": "code",
   "execution_count": 24,
   "metadata": {
    "colab": {},
    "colab_type": "code",
    "id": "JOGe65nfXGQV"
   },
   "outputs": [],
   "source": [
    "cnn.add(tf.keras.layers.Dense(units = 1, activation = \"sigmoid\" ) )"
   ]
  },
  {
   "cell_type": "markdown",
   "metadata": {
    "colab_type": "text",
    "id": "D6XkI90snSDl"
   },
   "source": [
    "## Part 3 - Training the CNN"
   ]
  },
  {
   "cell_type": "markdown",
   "metadata": {
    "colab_type": "text",
    "id": "vfrFQACEnc6i"
   },
   "source": [
    "### Compiling the CNN"
   ]
  },
  {
   "cell_type": "code",
   "execution_count": 30,
   "metadata": {
    "colab": {},
    "colab_type": "code",
    "id": "1PFdxkgKXhMQ"
   },
   "outputs": [],
   "source": [
    "cnn.compile(optimizer=\"adam\",loss = \"binary_crossentropy\", metrics = [\"accuracy\"])\n"
   ]
  },
  {
   "cell_type": "markdown",
   "metadata": {
    "colab_type": "text",
    "id": "ehS-v3MIpX2h"
   },
   "source": [
    "### Training the CNN on the Training set and evaluating it on the Test set"
   ]
  },
  {
   "cell_type": "code",
   "execution_count": 31,
   "metadata": {
    "colab": {},
    "colab_type": "code",
    "id": "68UEr04OX5t7"
   },
   "outputs": [
    {
     "name": "stdout",
     "output_type": "stream",
     "text": [
      "Epoch 1/20\n",
      "250/250 [==============================] - 29s 114ms/step - loss: 0.4735 - accuracy: 0.7730 - val_loss: 0.4594 - val_accuracy: 0.7885\n",
      "Epoch 2/20\n",
      "250/250 [==============================] - 28s 111ms/step - loss: 0.4610 - accuracy: 0.7829 - val_loss: 0.4419 - val_accuracy: 0.7935\n",
      "Epoch 3/20\n",
      "250/250 [==============================] - 28s 113ms/step - loss: 0.4502 - accuracy: 0.7883 - val_loss: 0.4555 - val_accuracy: 0.7785\n",
      "Epoch 4/20\n",
      "250/250 [==============================] - 28s 113ms/step - loss: 0.4446 - accuracy: 0.7862 - val_loss: 0.4537 - val_accuracy: 0.7860\n",
      "Epoch 5/20\n",
      "250/250 [==============================] - 28s 113ms/step - loss: 0.4292 - accuracy: 0.7985 - val_loss: 0.4553 - val_accuracy: 0.7870\n",
      "Epoch 6/20\n",
      "250/250 [==============================] - 28s 114ms/step - loss: 0.4168 - accuracy: 0.8058 - val_loss: 0.6530 - val_accuracy: 0.6940\n",
      "Epoch 7/20\n",
      "250/250 [==============================] - 28s 113ms/step - loss: 0.4228 - accuracy: 0.8018 - val_loss: 0.4105 - val_accuracy: 0.8080\n",
      "Epoch 8/20\n",
      "250/250 [==============================] - 28s 114ms/step - loss: 0.3941 - accuracy: 0.8200 - val_loss: 0.4069 - val_accuracy: 0.8140\n",
      "Epoch 9/20\n",
      "250/250 [==============================] - 28s 113ms/step - loss: 0.3804 - accuracy: 0.8260 - val_loss: 0.4523 - val_accuracy: 0.7970\n",
      "Epoch 10/20\n",
      "250/250 [==============================] - 29s 114ms/step - loss: 0.3744 - accuracy: 0.8310 - val_loss: 0.4033 - val_accuracy: 0.8220\n",
      "Epoch 11/20\n",
      "250/250 [==============================] - 28s 114ms/step - loss: 0.3657 - accuracy: 0.8313 - val_loss: 0.4029 - val_accuracy: 0.8200\n",
      "Epoch 12/20\n",
      "250/250 [==============================] - 29s 116ms/step - loss: 0.3587 - accuracy: 0.8328 - val_loss: 0.4106 - val_accuracy: 0.8170\n",
      "Epoch 13/20\n",
      "250/250 [==============================] - 28s 114ms/step - loss: 0.3477 - accuracy: 0.8438 - val_loss: 0.3934 - val_accuracy: 0.8215\n",
      "Epoch 14/20\n",
      "250/250 [==============================] - 29s 114ms/step - loss: 0.3328 - accuracy: 0.8555 - val_loss: 0.4063 - val_accuracy: 0.8190\n",
      "Epoch 15/20\n",
      "250/250 [==============================] - 28s 114ms/step - loss: 0.3207 - accuracy: 0.8544 - val_loss: 0.4718 - val_accuracy: 0.7945\n",
      "Epoch 16/20\n",
      "250/250 [==============================] - 29s 114ms/step - loss: 0.3158 - accuracy: 0.8618 - val_loss: 0.4261 - val_accuracy: 0.8135\n",
      "Epoch 17/20\n",
      "250/250 [==============================] - 29s 115ms/step - loss: 0.3047 - accuracy: 0.8648 - val_loss: 0.3998 - val_accuracy: 0.8205\n",
      "Epoch 18/20\n",
      "250/250 [==============================] - 29s 115ms/step - loss: 0.2893 - accuracy: 0.8727 - val_loss: 0.4359 - val_accuracy: 0.8070\n",
      "Epoch 19/20\n",
      "250/250 [==============================] - 29s 116ms/step - loss: 0.2820 - accuracy: 0.8785 - val_loss: 0.4029 - val_accuracy: 0.8345\n",
      "Epoch 20/20\n",
      "250/250 [==============================] - 28s 114ms/step - loss: 0.2690 - accuracy: 0.8863 - val_loss: 0.4151 - val_accuracy: 0.8270\n"
     ]
    }
   ],
   "source": [
    "train = cnn.fit(train_data, validation_data = test_data, epochs = 20 )"
   ]
  },
  {
   "cell_type": "code",
   "execution_count": 32,
   "metadata": {},
   "outputs": [
    {
     "name": "stdout",
     "output_type": "stream",
     "text": [
      "Train: 0.887, Test: 0.827\n"
     ]
    },
    {
     "data": {
      "image/png": "[encoded data removed]",
      "text/plain": [
       "<Figure size 432x288 with 1 Axes>"
      ]
     },
     "metadata": {
      "needs_background": "light"
     },
     "output_type": "display_data"
    }
   ],
   "source": [
    "# evaluate the model\n",
    "_, train_acc = cnn.evaluate(train_data, verbose=0)\n",
    "_, test_acc = cnn.evaluate(test_data, verbose=0)\n",
    "print('Train: %.3f, Test: %.3f' % (train_acc, test_acc))\n",
    "# plot training history\n",
    "plt.plot(train.history['loss'], label='train')\n",
    "plt.plot(train.history['val_loss'], label='test')\n",
    "plt.legend()\n",
    "plt.show()"
   ]
  },
  {
   "cell_type": "markdown",
   "metadata": {
    "colab_type": "text",
    "id": "U3PZasO0006Z"
   },
   "source": [
    "## Part 4 - Making a single prediction"
   ]
  },
  {
   "cell_type": "code",
   "execution_count": 44,
   "metadata": {
    "colab": {},
    "colab_type": "code",
    "id": "NqfederfZIdx"
   },
   "outputs": [
    {
     "name": "stdout",
     "output_type": "stream",
     "text": [
      "dog\n"
     ]
    },
    {
     "data": {
      "text/plain": [
       "<matplotlib.image.AxesImage at 0x7f98e00b6f60>"
      ]
     },
     "execution_count": 44,
     "metadata": {},
     "output_type": "execute_result"
    },
    {
     "data": {
      "image/png": "[encoded data removed]",
      "text/plain": [
       "<Figure size 432x288 with 1 Axes>"
      ]
     },
     "metadata": {
      "needs_background": "light"
     },
     "output_type": "display_data"
    }
   ],
   "source": [
    "from keras.preprocessing import image\n",
    "test_image1 = image.load_img(\"dataset/single_prediction/cat_or_dog_1.jpg\", target_size = (64,64))\n",
    "test_image = image.img_to_array(test_image1)\n",
    "test_image = np.expand_dims(test_image, axis = 0)\n",
    "result = cnn.predict(test_image)\n",
    "train_data.class_indices\n",
    "if result[0][0] == 1:\n",
    "  prediction = 'dog'\n",
    "else:\n",
    "  prediction = 'cat'\n",
    "\n",
    "print(prediction)\n",
    "plt.imshow(test_image1)\n",
    "\n",
    "  "
   ]
  },
  {
   "cell_type": "code",
   "execution_count": null,
   "metadata": {},
   "outputs": [],
   "source": []
  }
 ],
 "metadata": {
  "colab": {
   "collapsed_sections": [],
   "name": "Copy of convolutional_neural_network.ipynb",
   "provenance": [],
   "toc_visible": true
  },
  "kernelspec": {
   "display_name": "Python 3",
   "language": "python",
   "name": "python3"
  },
  "language_info": {
   "codemirror_mode": {
    "name": "ipython",
    "version": 3
   },
   "file_extension": ".py",
   "mimetype": "text/x-python",
   "name": "python",
   "nbconvert_exporter": "python",
   "pygments_lexer": "ipython3",
   "version": "3.6.9"
  }
 },
 "nbformat": 4,
 "nbformat_minor": 1
}
