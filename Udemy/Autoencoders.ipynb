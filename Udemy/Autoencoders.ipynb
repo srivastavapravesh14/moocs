{
  "nbformat": 4,
  "nbformat_minor": 0,
  "metadata": {
    "colab": {
      "name": "Autoencoders.ipynb",
      "provenance": [],
      "collapsed_sections": []
    },
    "kernelspec": {
      "name": "python3",
      "display_name": "Python 3"
    }
  },
  "cells": [
    {
      "cell_type": "code",
      "metadata": {
        "id": "lJdDLyBIX3TY",
        "colab_type": "code",
        "colab": {}
      },
      "source": [
        "import numpy as np\n",
        "import pandas as pd\n",
        "import torch\n",
        "import torch.nn as nn\n",
        "import torch.optim as optim\n",
        "import torch.utils.data\n",
        "from torch.autograd import Variable\n"
      ],
      "execution_count": 19,
      "outputs": []
    },
    {
      "cell_type": "code",
      "metadata": {
        "id": "QA-2umo8pKlX",
        "colab_type": "code",
        "colab": {}
      },
      "source": [
        "#importing the dataset for movies, users and ratings.\n",
        "\n",
        "movies = pd.read_csv(\"/content/drive/My Drive/BM_DATA/ml-1m/movies.dat\", sep = \"::\", header = None, engine = \"python\", encoding = \"latin-1\")\n",
        "\n",
        "users = pd.read_csv(\"/content/drive/My Drive/BM_DATA/ml-1m/users.dat\", sep = \"::\", header = None, engine = \"python\", encoding = \"latin-1\")\n",
        "\n",
        "ratings = pd.read_csv(\"/content/drive/My Drive/BM_DATA/ml-1m/ratings.dat\", sep = \"::\", header = None, engine = \"python\", encoding = \"latin-1\")\n"
      ],
      "execution_count": 11,
      "outputs": []
    },
    {
      "cell_type": "code",
      "metadata": {
        "id": "hQGQSQoUrZna",
        "colab_type": "code",
        "colab": {
          "base_uri": "https://localhost:8080/",
          "height": 281
        },
        "outputId": "9af68564-2bdb-42ac-f002-e3c923c0be53"
      },
      "source": [
        "training_data = pd.read_csv(\"/content/drive/My Drive/BM_DATA/ml-100k/u1.base\", delimiter = \"\\t\")\n",
        "#convert train set to array to be used as tensors for pytorch \n",
        "train_data = np.array(training_data, dtype=\"int\")\n",
        "\n",
        "testing_data = pd.read_csv(\"/content/drive/My Drive/BM_DATA/ml-100k/u1.test\", delimiter = \"\\t\")\n",
        "#convert test set to array to be used as tensors for pytorch \n",
        "test_data = np.array(testing_data, dtype=\"int\")\n",
        "\n",
        "print(train_data), print(test_data)"
      ],
      "execution_count": 12,
      "outputs": [
        {
          "output_type": "stream",
          "text": [
            "[[        1         2         3 876893171]\n",
            " [        1         3         4 878542960]\n",
            " [        1         4         3 876893119]\n",
            " ...\n",
            " [      943      1188         3 888640250]\n",
            " [      943      1228         3 888640275]\n",
            " [      943      1330         3 888692465]]\n",
            "[[        1        10         3 875693118]\n",
            " [        1        12         5 878542960]\n",
            " [        1        14         5 874965706]\n",
            " ...\n",
            " [      459       934         3 879563639]\n",
            " [      460        10         3 882912371]\n",
            " [      462       682         5 886365231]]\n"
          ],
          "name": "stdout"
        },
        {
          "output_type": "execute_result",
          "data": {
            "text/plain": [
              "(None, None)"
            ]
          },
          "metadata": {
            "tags": []
          },
          "execution_count": 12
        }
      ]
    },
    {
      "cell_type": "code",
      "metadata": {
        "id": "-p07AWqhv-9U",
        "colab_type": "code",
        "colab": {}
      },
      "source": [
        "#finding the total count of users\n",
        "#The max id of users can be in either of test or train set\n",
        "n_users = len( np.unique( np.concatenate([train_data[:,0], test_data[:, 0]]) ) )\n",
        "\n",
        "#finding the total count of movies\n",
        "#The max id of movies can be in either of test or train set\n",
        "n_movies = len(np.unique(np.concatenate([train_data[:,1], test_data[:, 1]])))"
      ],
      "execution_count": 13,
      "outputs": []
    },
    {
      "cell_type": "code",
      "metadata": {
        "id": "ilJW9BHPwFv2",
        "colab_type": "code",
        "colab": {}
      },
      "source": [
        "# A function to map these values in horizontal lists\n",
        "def data_new(data):\n",
        "  \"\"\"\n",
        "  This function creates data structure according to the format a pytorch takes input.\n",
        "  The data will be of the form such that it will be list of lists. Each list will contain\n",
        "  movie rating for all the movies by the users.\n",
        "  Each row will correspond to a particular user with a list which contains all the movie ratings\n",
        "  given by the user to the movies.\n",
        "  In case the user hasn't rated or watched the movie a value of zero will be assigned\n",
        "  returns list of lists\n",
        "  output format:- user1:[rating1,rating2,......,rating for nth movie]\n",
        "  \"\"\"\n",
        " #n_users and n_movies are global variables\n",
        "  list1 = []\n",
        "  for i in range(1, n_users+1):\n",
        "    movie_id = data[:,1][data[:,0] == i]\n",
        "    movie_rating = data[:,2][data[:,0] == i]\n",
        "    zero_rating = np.zeros(n_movies)# creating a list of zeros to overwrite if movie rating is present\n",
        "    zero_rating[movie_id-1] = movie_rating\n",
        "    list1.append(list(zero_rating))\n",
        "\n",
        "  new_data = list1\n",
        "  return new_data \n",
        "\n",
        "\n",
        "\n",
        "\n",
        "\n"
      ],
      "execution_count": 14,
      "outputs": []
    },
    {
      "cell_type": "code",
      "metadata": {
        "id": "CKKSVKTD1cvv",
        "colab_type": "code",
        "colab": {}
      },
      "source": [
        "\n",
        "train_data_new = data_new(train_data)\n",
        "test_data_new = data_new(test_data)"
      ],
      "execution_count": 15,
      "outputs": []
    },
    {
      "cell_type": "code",
      "metadata": {
        "id": "4Y_xMZyN6Zpq",
        "colab_type": "code",
        "colab": {}
      },
      "source": [
        "#converting data to torch tensors\n",
        "training_set = torch.FloatTensor(train_data_new)\n",
        "test_set = torch.FloatTensor(test_data_new)\n"
      ],
      "execution_count": 16,
      "outputs": []
    },
    {
      "cell_type": "code",
      "metadata": {
        "id": "rHirmbooA4vY",
        "colab_type": "code",
        "colab": {}
      },
      "source": [
        "#Creating the architecture for neural network\n",
        "class AutoEncoders(nn.Module):\n",
        "  def __init__(self):\n",
        "    super(AutoEncoders, self).__init__()\n",
        "    self.fc1 = nn.Linear(n_movies, 20)\n",
        "    self.fc2 = nn.Linear(20,10)\n",
        "    self.fc3 = nn.Linear(10,20)\n",
        "    self.fc4 = nn.Linear(20, n_movies)\n",
        "    self.activation = nn.Sigmoid()\n",
        "\n",
        "  def forward(self, x):\n",
        "    x = self.activation(self.fc1(x))\n",
        "    x = self.activation(self.fc2(x))\n",
        "    x = self.activation(self.fc3(x))\n",
        "    x = self.fc4(x)\n",
        "    return x\n",
        "\n",
        "sae = AutoEncoders()\n",
        "criterion = nn.MSELoss()\n",
        "optimizer = optim.Adam(sae.parameters(), lr = 0.003, weight_decay = 0.5)\n",
        "\n",
        "\n",
        "\n",
        "\n"
      ],
      "execution_count": 17,
      "outputs": []
    },
    {
      "cell_type": "code",
      "metadata": {
        "id": "niZAkTAl5JQK",
        "colab_type": "code",
        "colab": {
          "base_uri": "https://localhost:8080/",
          "height": 1000
        },
        "outputId": "1cfa6165-1ea4-40e7-cbd1-d1a29704256f"
      },
      "source": [
        "#training the autoencoder\n",
        "nb_epochs = 200\n",
        "\n",
        "for epochs in range(1,nb_epochs+1):\n",
        "  train_loss = 0\n",
        "  s = 0.0\n",
        "  for userid in range(n_users):\n",
        "    input = Variable(training_set[userid]).unsqueeze(0)\n",
        "    target = input.clone()\n",
        "    if torch.sum(target.data > 0) > 0:\n",
        "      output = sae(input)\n",
        "      target.required_grad = False\n",
        "      output[target == 0] = 0\n",
        "      loss = criterion(output, target)\n",
        "      mean_corrector = n_movies/float(torch.sum(target.data > 0) + 1e-10)\n",
        "      loss.backward()\n",
        "      train_loss += np.sqrt(loss.data*mean_corrector)\n",
        "      s += 1.\n",
        "      optimizer.step()\n",
        "  print('epoch: '+str(epochs)+'loss: '+ str(train_loss/s))\n"
      ],
      "execution_count": 22,
      "outputs": [
        {
          "output_type": "stream",
          "text": [
            "epoch: 1loss: tensor(1.0930)\n",
            "epoch: 2loss: tensor(1.0492)\n",
            "epoch: 3loss: tensor(1.0341)\n",
            "epoch: 4loss: tensor(1.0267)\n",
            "epoch: 5loss: tensor(1.0224)\n",
            "epoch: 6loss: tensor(1.0196)\n",
            "epoch: 7loss: tensor(1.0176)\n",
            "epoch: 8loss: tensor(1.0162)\n",
            "epoch: 9loss: tensor(1.0152)\n",
            "epoch: 10loss: tensor(1.0144)\n",
            "epoch: 11loss: tensor(1.0137)\n",
            "epoch: 12loss: tensor(1.0132)\n",
            "epoch: 13loss: tensor(1.0129)\n",
            "epoch: 14loss: tensor(1.0125)\n",
            "epoch: 15loss: tensor(1.0123)\n",
            "epoch: 16loss: tensor(1.0120)\n",
            "epoch: 17loss: tensor(1.0118)\n",
            "epoch: 18loss: tensor(1.0117)\n",
            "epoch: 19loss: tensor(1.0116)\n",
            "epoch: 20loss: tensor(1.0114)\n",
            "epoch: 21loss: tensor(1.0113)\n",
            "epoch: 22loss: tensor(1.0112)\n",
            "epoch: 23loss: tensor(1.0111)\n",
            "epoch: 24loss: tensor(1.0111)\n",
            "epoch: 25loss: tensor(1.0110)\n",
            "epoch: 26loss: tensor(1.0109)\n",
            "epoch: 27loss: tensor(1.0108)\n",
            "epoch: 28loss: tensor(1.0105)\n",
            "epoch: 29loss: tensor(1.0093)\n",
            "epoch: 30loss: tensor(1.0075)\n",
            "epoch: 31loss: tensor(1.0058)\n",
            "epoch: 32loss: tensor(1.0028)\n",
            "epoch: 33loss: tensor(0.9987)\n",
            "epoch: 34loss: tensor(0.9936)\n",
            "epoch: 35loss: tensor(0.9892)\n",
            "epoch: 36loss: tensor(0.9867)\n",
            "epoch: 37loss: tensor(0.9843)\n",
            "epoch: 38loss: tensor(0.9803)\n",
            "epoch: 39loss: tensor(0.9794)\n",
            "epoch: 40loss: tensor(0.9767)\n",
            "epoch: 41loss: tensor(0.9763)\n",
            "epoch: 42loss: tensor(0.9786)\n",
            "epoch: 43loss: tensor(0.9797)\n",
            "epoch: 44loss: tensor(0.9814)\n",
            "epoch: 45loss: tensor(0.9769)\n",
            "epoch: 46loss: tensor(0.9812)\n",
            "epoch: 47loss: tensor(0.9859)\n",
            "epoch: 48loss: tensor(0.9780)\n",
            "epoch: 49loss: tensor(0.9733)\n",
            "epoch: 50loss: tensor(0.9752)\n",
            "epoch: 51loss: tensor(0.9802)\n",
            "epoch: 52loss: tensor(0.9792)\n",
            "epoch: 53loss: tensor(0.9770)\n",
            "epoch: 54loss: tensor(0.9801)\n",
            "epoch: 55loss: tensor(0.9768)\n",
            "epoch: 56loss: tensor(0.9727)\n",
            "epoch: 57loss: tensor(0.9684)\n",
            "epoch: 58loss: tensor(0.9672)\n",
            "epoch: 59loss: tensor(0.9657)\n",
            "epoch: 60loss: tensor(0.9641)\n",
            "epoch: 61loss: tensor(0.9612)\n",
            "epoch: 62loss: tensor(0.9560)\n",
            "epoch: 63loss: tensor(0.9543)\n",
            "epoch: 64loss: tensor(0.9524)\n",
            "epoch: 65loss: tensor(0.9488)\n",
            "epoch: 66loss: tensor(0.9474)\n",
            "epoch: 67loss: tensor(0.9494)\n",
            "epoch: 68loss: tensor(0.9477)\n",
            "epoch: 69loss: tensor(0.9449)\n",
            "epoch: 70loss: tensor(0.9428)\n",
            "epoch: 71loss: tensor(0.9423)\n",
            "epoch: 72loss: tensor(0.9405)\n",
            "epoch: 73loss: tensor(0.9426)\n",
            "epoch: 74loss: tensor(0.9413)\n",
            "epoch: 75loss: tensor(0.9395)\n",
            "epoch: 76loss: tensor(0.9368)\n",
            "epoch: 77loss: tensor(0.9350)\n",
            "epoch: 78loss: tensor(0.9337)\n",
            "epoch: 79loss: tensor(0.9331)\n",
            "epoch: 80loss: tensor(0.9323)\n",
            "epoch: 81loss: tensor(0.9318)\n",
            "epoch: 82loss: tensor(0.9305)\n",
            "epoch: 83loss: tensor(0.9297)\n",
            "epoch: 84loss: tensor(0.9295)\n",
            "epoch: 85loss: tensor(0.9291)\n",
            "epoch: 86loss: tensor(0.9281)\n",
            "epoch: 87loss: tensor(0.9274)\n",
            "epoch: 88loss: tensor(0.9269)\n",
            "epoch: 89loss: tensor(0.9263)\n",
            "epoch: 90loss: tensor(0.9258)\n",
            "epoch: 91loss: tensor(0.9252)\n",
            "epoch: 92loss: tensor(0.9248)\n",
            "epoch: 93loss: tensor(0.9244)\n",
            "epoch: 94loss: tensor(0.9241)\n",
            "epoch: 95loss: tensor(0.9236)\n",
            "epoch: 96loss: tensor(0.9232)\n",
            "epoch: 97loss: tensor(0.9243)\n",
            "epoch: 98loss: tensor(0.9239)\n",
            "epoch: 99loss: tensor(0.9228)\n",
            "epoch: 100loss: tensor(0.9221)\n",
            "epoch: 101loss: tensor(0.9218)\n",
            "epoch: 102loss: tensor(0.9215)\n",
            "epoch: 103loss: tensor(0.9210)\n",
            "epoch: 104loss: tensor(0.9206)\n",
            "epoch: 105loss: tensor(0.9202)\n",
            "epoch: 106loss: tensor(0.9195)\n",
            "epoch: 107loss: tensor(0.9191)\n",
            "epoch: 108loss: tensor(0.9186)\n",
            "epoch: 109loss: tensor(0.9184)\n",
            "epoch: 110loss: tensor(0.9182)\n",
            "epoch: 111loss: tensor(0.9178)\n",
            "epoch: 112loss: tensor(0.9174)\n",
            "epoch: 113loss: tensor(0.9171)\n",
            "epoch: 114loss: tensor(0.9169)\n",
            "epoch: 115loss: tensor(0.9166)\n",
            "epoch: 116loss: tensor(0.9165)\n",
            "epoch: 117loss: tensor(0.9163)\n",
            "epoch: 118loss: tensor(0.9160)\n",
            "epoch: 119loss: tensor(0.9156)\n",
            "epoch: 120loss: tensor(0.9154)\n",
            "epoch: 121loss: tensor(0.9150)\n",
            "epoch: 122loss: tensor(0.9148)\n",
            "epoch: 123loss: tensor(0.9146)\n",
            "epoch: 124loss: tensor(0.9144)\n",
            "epoch: 125loss: tensor(0.9140)\n",
            "epoch: 126loss: tensor(0.9141)\n",
            "epoch: 127loss: tensor(0.9138)\n",
            "epoch: 128loss: tensor(0.9135)\n",
            "epoch: 129loss: tensor(0.9132)\n",
            "epoch: 130loss: tensor(0.9131)\n",
            "epoch: 131loss: tensor(0.9128)\n",
            "epoch: 132loss: tensor(0.9141)\n",
            "epoch: 133loss: tensor(0.9130)\n",
            "epoch: 134loss: tensor(0.9123)\n",
            "epoch: 135loss: tensor(0.9120)\n",
            "epoch: 136loss: tensor(0.9117)\n",
            "epoch: 137loss: tensor(0.9115)\n",
            "epoch: 138loss: tensor(0.9114)\n",
            "epoch: 139loss: tensor(0.9112)\n",
            "epoch: 140loss: tensor(0.9111)\n",
            "epoch: 141loss: tensor(0.9110)\n",
            "epoch: 142loss: tensor(0.9111)\n",
            "epoch: 143loss: tensor(0.9110)\n",
            "epoch: 144loss: tensor(0.9110)\n",
            "epoch: 145loss: tensor(0.9105)\n",
            "epoch: 146loss: tensor(0.9102)\n",
            "epoch: 147loss: tensor(0.9100)\n",
            "epoch: 148loss: tensor(0.9098)\n",
            "epoch: 149loss: tensor(0.9098)\n",
            "epoch: 150loss: tensor(0.9096)\n",
            "epoch: 151loss: tensor(0.9094)\n",
            "epoch: 152loss: tensor(0.9094)\n",
            "epoch: 153loss: tensor(0.9093)\n",
            "epoch: 154loss: tensor(0.9091)\n",
            "epoch: 155loss: tensor(0.9089)\n",
            "epoch: 156loss: tensor(0.9088)\n",
            "epoch: 157loss: tensor(0.9088)\n",
            "epoch: 158loss: tensor(0.9085)\n",
            "epoch: 159loss: tensor(0.9091)\n",
            "epoch: 160loss: tensor(0.9083)\n",
            "epoch: 161loss: tensor(0.9078)\n",
            "epoch: 162loss: tensor(0.9076)\n",
            "epoch: 163loss: tensor(0.9072)\n",
            "epoch: 164loss: tensor(0.9084)\n",
            "epoch: 165loss: tensor(0.9076)\n",
            "epoch: 166loss: tensor(0.9071)\n",
            "epoch: 167loss: tensor(0.9069)\n",
            "epoch: 168loss: tensor(0.9065)\n",
            "epoch: 169loss: tensor(0.9058)\n",
            "epoch: 170loss: tensor(0.9058)\n",
            "epoch: 171loss: tensor(0.9053)\n",
            "epoch: 172loss: tensor(0.9051)\n",
            "epoch: 173loss: tensor(0.9051)\n",
            "epoch: 174loss: tensor(0.9046)\n",
            "epoch: 175loss: tensor(0.9041)\n",
            "epoch: 176loss: tensor(0.9034)\n",
            "epoch: 177loss: tensor(0.9028)\n",
            "epoch: 178loss: tensor(0.9024)\n",
            "epoch: 179loss: tensor(0.9021)\n",
            "epoch: 180loss: tensor(0.9014)\n",
            "epoch: 181loss: tensor(0.9007)\n",
            "epoch: 182loss: tensor(0.9001)\n",
            "epoch: 183loss: tensor(0.8996)\n",
            "epoch: 184loss: tensor(0.8991)\n",
            "epoch: 185loss: tensor(0.8986)\n",
            "epoch: 186loss: tensor(0.8985)\n",
            "epoch: 187loss: tensor(0.8990)\n",
            "epoch: 188loss: tensor(0.8975)\n",
            "epoch: 189loss: tensor(0.8967)\n",
            "epoch: 190loss: tensor(0.8961)\n",
            "epoch: 191loss: tensor(0.8957)\n",
            "epoch: 192loss: tensor(0.8950)\n",
            "epoch: 193loss: tensor(0.8946)\n",
            "epoch: 194loss: tensor(0.8939)\n",
            "epoch: 195loss: tensor(0.8943)\n",
            "epoch: 196loss: tensor(0.8943)\n",
            "epoch: 197loss: tensor(0.8928)\n",
            "epoch: 198loss: tensor(0.8916)\n",
            "epoch: 199loss: tensor(0.8910)\n",
            "epoch: 200loss: tensor(0.8910)\n"
          ],
          "name": "stdout"
        }
      ]
    },
    {
      "cell_type": "code",
      "metadata": {
        "id": "SKg4-xHcpu2j",
        "colab_type": "code",
        "colab": {
          "base_uri": "https://localhost:8080/",
          "height": 34
        },
        "outputId": "01b0daf3-cc07-48a9-944e-d5b61aa8db2d"
      },
      "source": [
        "test_loss = 0\n",
        "s = 0.\n",
        "for id_user in range(n_users):\n",
        "  input = Variable(training_set[id_user]).unsqueeze(0)\n",
        "  target = Variable(test_set[id_user]).unsqueeze(0)\n",
        "  if torch.sum(target.data > 0) > 0:\n",
        "    output = sae(input)\n",
        "    target.require_grad = False\n",
        "    output[target == 0] = 0\n",
        "    loss = criterion(output, target)\n",
        "    mean_corrector = n_movies/float(torch.sum(target.data > 0) + 1e-10)\n",
        "    test_loss += np.sqrt(loss.data*mean_corrector)\n",
        "    s += 1.\n",
        "print('test loss: '+str(test_loss/s))"
      ],
      "execution_count": 24,
      "outputs": [
        {
          "output_type": "stream",
          "text": [
            "test loss: tensor(0.9421)\n"
          ],
          "name": "stdout"
        }
      ]
    },
    {
      "cell_type": "code",
      "metadata": {
        "id": "4bnZgrDSuEXY",
        "colab_type": "code",
        "colab": {}
      },
      "source": [
        ""
      ],
      "execution_count": null,
      "outputs": []
    }
  ]
}